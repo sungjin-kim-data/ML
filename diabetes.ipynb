{
  "nbformat": 4,
  "nbformat_minor": 0,
  "metadata": {
    "colab": {
      "private_outputs": true,
      "provenance": [],
      "authorship_tag": "ABX9TyOsZzJ0sodCVjlFw9DqpO9V",
      "include_colab_link": true
    },
    "kernelspec": {
      "name": "python3",
      "display_name": "Python 3"
    },
    "language_info": {
      "name": "python"
    }
  },
  "cells": [
    {
      "cell_type": "markdown",
      "metadata": {
        "id": "view-in-github",
        "colab_type": "text"
      },
      "source": [
        "<a href=\"https://colab.research.google.com/github/sungjin-kim-data/ML/blob/master/diabetes.ipynb\" target=\"_parent\"><img src=\"https://colab.research.google.com/assets/colab-badge.svg\" alt=\"Open In Colab\"/></a>"
      ]
    },
    {
      "cell_type": "code",
      "execution_count": null,
      "metadata": {
        "id": "AnWTXVfeCgEv"
      },
      "outputs": [],
      "source": [
        "import pandas as pd\n",
        "import numpy as np\n",
        "import matplotlib.pyplot as plt\n",
        "from sklearn.datasets import load_diabetes\n",
        "\n",
        "np.random.seed(42)"
      ]
    },
    {
      "cell_type": "code",
      "source": [
        "diabetes = load_diabetes()"
      ],
      "metadata": {
        "id": "RBOMJR7TCoP-"
      },
      "execution_count": null,
      "outputs": []
    },
    {
      "cell_type": "code",
      "source": [
        "diabetes[\"feature_names\"]"
      ],
      "metadata": {
        "id": "rr71blc3CoSl"
      },
      "execution_count": null,
      "outputs": []
    },
    {
      "cell_type": "markdown",
      "source": [
        "당뇨병 데이터에서 사용되는 변수명 'feature_names'\n",
        " - age : 나이\n",
        " - sex : 성별\n",
        " - bmi : Body Mass index\n",
        " - bp : Average blood pressure\n",
        " - s1, s2, s3, s4, s5, s6 : 혈청에 대한 6가지 지표들"
      ],
      "metadata": {
        "id": "7WOqU6JFC5-j"
      }
    },
    {
      "cell_type": "code",
      "source": [
        "data, target = diabetes[\"data\"], diabetes[\"target\"]"
      ],
      "metadata": {
        "id": "rtDdXzqYDndJ"
      },
      "execution_count": null,
      "outputs": []
    },
    {
      "cell_type": "code",
      "source": [
        "data[0]"
      ],
      "metadata": {
        "id": "fin2D45-Dngb"
      },
      "execution_count": null,
      "outputs": []
    },
    {
      "cell_type": "code",
      "source": [
        "target[0]"
      ],
      "metadata": {
        "id": "-HU2pW9iD0iF"
      },
      "execution_count": null,
      "outputs": []
    },
    {
      "cell_type": "code",
      "source": [
        "df = pd.DataFrame(data, columns = diabetes[\"feature_names\"])\n",
        "df.head()"
      ],
      "metadata": {
        "id": "o2sjVcySC5G6"
      },
      "execution_count": null,
      "outputs": []
    },
    {
      "cell_type": "code",
      "source": [
        "df.describe()"
      ],
      "metadata": {
        "id": "gWY-H_VgCoU4"
      },
      "execution_count": null,
      "outputs": []
    },
    {
      "cell_type": "code",
      "source": [
        "from sklearn.model_selection import train_test_split"
      ],
      "metadata": {
        "id": "p6mnRsRyCoXh"
      },
      "execution_count": null,
      "outputs": []
    },
    {
      "cell_type": "code",
      "source": [
        "X_train, X_test, y_train, y_test = train_test_split(data, target, test_size=0.3)"
      ],
      "metadata": {
        "id": "-n1oTuEuCoZw"
      },
      "execution_count": null,
      "outputs": []
    },
    {
      "cell_type": "code",
      "source": [
        "print(X_train.shape, y_train.shape)\n",
        "print(X_test.shape, y_test.shape)"
      ],
      "metadata": {
        "id": "VjN2g3T8CocE"
      },
      "execution_count": null,
      "outputs": []
    },
    {
      "cell_type": "code",
      "source": [
        "print(\"train ratio : {:.2f}\".format(len(X_train)/len(data)))\n",
        "print(\"train ratio : {:.2f}\".format(len(X_test)/len(data)))"
      ],
      "metadata": {
        "id": "vpA8ihdsEaOQ"
      },
      "execution_count": null,
      "outputs": []
    },
    {
      "cell_type": "code",
      "source": [
        "from sklearn.linear_model import LinearRegression"
      ],
      "metadata": {
        "id": "DNY-ViShEqHO"
      },
      "execution_count": null,
      "outputs": []
    },
    {
      "cell_type": "code",
      "source": [
        "multi = LinearRegression()\n",
        "multi.fit(X_train, y_train)"
      ],
      "metadata": {
        "id": "CXfXjbwlEvYx"
      },
      "execution_count": null,
      "outputs": []
    },
    {
      "cell_type": "code",
      "source": [
        "multi.intercept_"
      ],
      "metadata": {
        "id": "mWkX9g9aEvdG"
      },
      "execution_count": null,
      "outputs": []
    },
    {
      "cell_type": "code",
      "source": [
        "multi.coef_"
      ],
      "metadata": {
        "id": "kQpA_A_PEvgG"
      },
      "execution_count": null,
      "outputs": []
    },
    {
      "cell_type": "code",
      "source": [
        "multi_train_pred = multi.predict(X_train)\n",
        "multi_test_pred = multi.predict(X_test)"
      ],
      "metadata": {
        "id": "O8Hq_KpMEvjD"
      },
      "execution_count": null,
      "outputs": []
    },
    {
      "cell_type": "code",
      "source": [
        "from sklearn.metrics import mean_squared_error\n",
        "\n",
        "multi_train_mse = mean_squared_error(multi_train_pred, y_train)\n",
        "multi_test_mse = mean_squared_error(multi_test_pred, y_test)"
      ],
      "metadata": {
        "id": "iNoKTaq2FJ52"
      },
      "execution_count": null,
      "outputs": []
    },
    {
      "cell_type": "code",
      "source": [
        "from sklearn.linear_model import Ridge\n",
        "\n",
        "ridge = Ridge()\n",
        "ridge.fit(X_train, y_train)"
      ],
      "metadata": {
        "id": "8EB88rv_Fe5F"
      },
      "execution_count": null,
      "outputs": []
    },
    {
      "cell_type": "code",
      "source": [
        "ridge.intercept_"
      ],
      "metadata": {
        "id": "eIeBTX8pFrv6"
      },
      "execution_count": null,
      "outputs": []
    },
    {
      "cell_type": "code",
      "source": [
        "ridge.coef_"
      ],
      "metadata": {
        "id": "_OOvG_riFvYE"
      },
      "execution_count": null,
      "outputs": []
    },
    {
      "cell_type": "code",
      "source": [
        "multi.coef_"
      ],
      "metadata": {
        "id": "8bkZ6heoFyjO"
      },
      "execution_count": null,
      "outputs": []
    },
    {
      "cell_type": "code",
      "source": [
        "ridge_train_pred = ridge.predict(X_train)\n",
        "ridge_test_pred = ridge.predict(X_test)"
      ],
      "metadata": {
        "id": "WH40kX4pF44Y"
      },
      "execution_count": null,
      "outputs": []
    },
    {
      "cell_type": "code",
      "source": [
        "ridge_train_mse = mean_squared_error(ridge_train_pred, y_train)\n",
        "ridge_test_mse = mean_squared_error(ridge_test_pred, y_test)"
      ],
      "metadata": {
        "id": "mqutgkHaGGrf"
      },
      "execution_count": null,
      "outputs": []
    },
    {
      "cell_type": "code",
      "source": [
        "print(round(ridge_train_mae, 2))\n",
        "print(round(ridge_test_mae, 2))"
      ],
      "metadata": {
        "id": "0rFXANgvGTaU"
      },
      "execution_count": null,
      "outputs": []
    },
    {
      "cell_type": "code",
      "source": [
        "from sklearn.linear_model import Lasso"
      ],
      "metadata": {
        "id": "RK44JxvnGfnD"
      },
      "execution_count": null,
      "outputs": []
    },
    {
      "cell_type": "code",
      "source": [
        "lasso = Lasso()\n",
        "lasso.fit(X_train, y_train)"
      ],
      "metadata": {
        "id": "qKqhr7spGlMH"
      },
      "execution_count": null,
      "outputs": []
    },
    {
      "cell_type": "code",
      "source": [
        "lasso.intercept_"
      ],
      "metadata": {
        "id": "9gs-3bx2GozV"
      },
      "execution_count": null,
      "outputs": []
    },
    {
      "cell_type": "code",
      "source": [
        "ridge.intercept_"
      ],
      "metadata": {
        "id": "WwhaHLK_Go2A"
      },
      "execution_count": null,
      "outputs": []
    },
    {
      "cell_type": "code",
      "source": [
        "lasso.coef_"
      ],
      "metadata": {
        "id": "J-ftqwTsGo49"
      },
      "execution_count": null,
      "outputs": []
    },
    {
      "cell_type": "code",
      "source": [
        "ridge.coef_"
      ],
      "metadata": {
        "id": "lwx0NIckGzTy"
      },
      "execution_count": null,
      "outputs": []
    },
    {
      "cell_type": "code",
      "source": [
        "np.array(diabetes['feature_names'])[lasso.coef_ != 0]"
      ],
      "metadata": {
        "id": "2bC7AIgkG52m"
      },
      "execution_count": null,
      "outputs": []
    },
    {
      "cell_type": "code",
      "source": [
        "lasso_train_pred = lasso.predict(X_train)\n",
        "lasso_test_pred = lasso.predict(X_test)"
      ],
      "metadata": {
        "id": "cKOjUAbuHDpa"
      },
      "execution_count": null,
      "outputs": []
    },
    {
      "cell_type": "code",
      "source": [
        "lasso_train_mse = mean_squared_error(lasso_train_pred, y_train)\n",
        "lasso_test_mse = mean_squared_error(lasso_test_pred, y_test)"
      ],
      "metadata": {
        "id": "2I1RLKxAHMMs"
      },
      "execution_count": null,
      "outputs": []
    },
    {
      "cell_type": "code",
      "source": [
        "print(round(lasso_train_mse, 2))\n",
        "print(round(lasso_test_mse, 2))"
      ],
      "metadata": {
        "id": "hO-B68tSHnGX"
      },
      "execution_count": null,
      "outputs": []
    },
    {
      "cell_type": "code",
      "source": [
        "print(round(ridge_train_mse, 2))\n",
        "print(round(ridge_test_mse, 2))"
      ],
      "metadata": {
        "id": "VCrPiIcfHkc3"
      },
      "execution_count": null,
      "outputs": []
    },
    {
      "cell_type": "code",
      "source": [
        "print(f\"Multi Regression Test MSE is {multi_test_mse}\")\n",
        "print(f\"Ridge Regression Test MSE is {ridge_test_mse}\")\n",
        "print(f\"Lasso Regression Test MSE is {lasso_test_mse}\")"
      ],
      "metadata": {
        "id": "lKG9uH1RHtcg"
      },
      "execution_count": null,
      "outputs": []
    },
    {
      "cell_type": "code",
      "source": [
        "fig, axes = plt.subplots(nrows = 1, ncols = 3, figsize=(15, 5))\n",
        "preds = [\n",
        "    (\"Multi Regression\", multi_test_pred),\n",
        "    (\"Ridge Regression\", ridge_test_pred),\n",
        "    (\"Lasso Regression\", lasso_test_pred)\n",
        "]\n",
        "\n",
        "for idx, (name, test_pred) in enumerate(preds):\n",
        "  ax = axes[idx]\n",
        "  ax.scatter(test_pred, y_test)\n",
        "  ax.plot(np.linspace(0, 350, 100), np.linspace(0, 350, 100), c='r')\n",
        "  ax.set_xlabel(\"Predict\")\n",
        "  ax.set_ylabel(\"Real\")\n",
        "  ax.set_title(name)"
      ],
      "metadata": {
        "id": "X0HMtKZRINU7"
      },
      "execution_count": null,
      "outputs": []
    }
  ]
}