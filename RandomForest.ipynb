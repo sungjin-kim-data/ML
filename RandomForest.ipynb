{
  "nbformat": 4,
  "nbformat_minor": 0,
  "metadata": {
    "colab": {
      "provenance": [],
      "authorship_tag": "ABX9TyPch2f5oDa71U+QSF+7ALeL",
      "include_colab_link": true
    },
    "kernelspec": {
      "name": "python3",
      "display_name": "Python 3"
    },
    "language_info": {
      "name": "python"
    }
  },
  "cells": [
    {
      "cell_type": "markdown",
      "metadata": {
        "id": "view-in-github",
        "colab_type": "text"
      },
      "source": [
        "<a href=\"https://colab.research.google.com/github/sungjin-kim-data/ML/blob/master/RandomForest.ipynb\" target=\"_parent\"><img src=\"https://colab.research.google.com/assets/colab-badge.svg\" alt=\"Open In Colab\"/></a>"
      ]
    },
    {
      "cell_type": "code",
      "execution_count": 104,
      "metadata": {
        "id": "G_NvEtCq6xGF"
      },
      "outputs": [],
      "source": [
        "from sklearn.datasets import load_digits\n",
        "\n",
        "digits = load_digits()"
      ]
    },
    {
      "cell_type": "code",
      "source": [
        "import pandas as pd\n",
        "import numpy as np\n",
        "import matplotlib.pyplot as plt"
      ],
      "metadata": {
        "id": "uo_W6VMd7ece"
      },
      "execution_count": 105,
      "outputs": []
    },
    {
      "cell_type": "code",
      "source": [
        "data, target = digits[\"data\"], digits[\"target\"]"
      ],
      "metadata": {
        "id": "dOzhsGhu7Iva"
      },
      "execution_count": 106,
      "outputs": []
    },
    {
      "cell_type": "code",
      "source": [
        "data[0], target[0]"
      ],
      "metadata": {
        "id": "RpAEKU_o7NEn",
        "colab": {
          "base_uri": "https://localhost:8080/"
        },
        "outputId": "566ef938-a1ac-4424-9cc2-d7e1e8cb7538"
      },
      "execution_count": 107,
      "outputs": [
        {
          "output_type": "execute_result",
          "data": {
            "text/plain": [
              "(array([ 0.,  0.,  5., 13.,  9.,  1.,  0.,  0.,  0.,  0., 13., 15., 10.,\n",
              "        15.,  5.,  0.,  0.,  3., 15.,  2.,  0., 11.,  8.,  0.,  0.,  4.,\n",
              "        12.,  0.,  0.,  8.,  8.,  0.,  0.,  5.,  8.,  0.,  0.,  9.,  8.,\n",
              "         0.,  0.,  4., 11.,  0.,  1., 12.,  7.,  0.,  0.,  2., 14.,  5.,\n",
              "        10., 12.,  0.,  0.,  0.,  0.,  6., 13., 10.,  0.,  0.,  0.]), 0)"
            ]
          },
          "metadata": {},
          "execution_count": 107
        }
      ]
    },
    {
      "cell_type": "code",
      "source": [
        "data[0].shape"
      ],
      "metadata": {
        "id": "ocQs-UJB7NHP",
        "colab": {
          "base_uri": "https://localhost:8080/"
        },
        "outputId": "9ee7aa25-2522-4073-a8b5-a4c755276878"
      },
      "execution_count": 108,
      "outputs": [
        {
          "output_type": "execute_result",
          "data": {
            "text/plain": [
              "(64,)"
            ]
          },
          "metadata": {},
          "execution_count": 108
        }
      ]
    },
    {
      "cell_type": "code",
      "source": [
        "samples = data[:10].reshape(10, 8, 8)\n",
        "\n",
        "fig, axes = plt.subplots(nrows=2, ncols=5, figsize=(20, 10))\n",
        "for idx, sample in enumerate(samples):\n",
        "  axes[idx//5, idx%5].imshow(sample, cmap=\"gray\")"
      ],
      "metadata": {
        "id": "H2b8kTc37NJ4",
        "colab": {
          "base_uri": "https://localhost:8080/",
          "height": 537
        },
        "outputId": "2d237db8-f074-4cb7-c04d-eeeb7eb18550"
      },
      "execution_count": 109,
      "outputs": [
        {
          "output_type": "display_data",
          "data": {
            "text/plain": [
              "<Figure size 1440x720 with 10 Axes>"
            ],
            "image/png": "[encoded data removed]"
          },
          "metadata": {
            "needs_background": "light"
          }
        }
      ]
    },
    {
      "cell_type": "code",
      "source": [
        "from sklearn.model_selection import train_test_split\n",
        "\n",
        "X_train, X_test, y_train, y_test = train_test_split (\n",
        "    data, target, test_size=0.3, random_state=2\n",
        ")"
      ],
      "metadata": {
        "id": "qyPUmwbr7NMh"
      },
      "execution_count": 110,
      "outputs": []
    },
    {
      "cell_type": "code",
      "source": [
        "X_train.shape, X_test.shape"
      ],
      "metadata": {
        "id": "qwH3vjCq7NOx",
        "colab": {
          "base_uri": "https://localhost:8080/"
        },
        "outputId": "01d11367-63e9-48e5-9c5b-84284237ff79"
      },
      "execution_count": 111,
      "outputs": [
        {
          "output_type": "execute_result",
          "data": {
            "text/plain": [
              "((1257, 64), (540, 64))"
            ]
          },
          "metadata": {},
          "execution_count": 111
        }
      ]
    },
    {
      "cell_type": "code",
      "source": [
        "from sklearn.ensemble import RandomForestClassifier\n",
        "\n",
        "rf = RandomForestClassifier()"
      ],
      "metadata": {
        "id": "NZdRvY4d8QJW"
      },
      "execution_count": 112,
      "outputs": []
    },
    {
      "cell_type": "code",
      "source": [
        "rf.fit(X_train, y_train)"
      ],
      "metadata": {
        "id": "loVtqoFz8QMV",
        "colab": {
          "base_uri": "https://localhost:8080/"
        },
        "outputId": "b4077c11-8094-480f-8aa2-fa16338cfaaf"
      },
      "execution_count": 113,
      "outputs": [
        {
          "output_type": "execute_result",
          "data": {
            "text/plain": [
              "RandomForestClassifier()"
            ]
          },
          "metadata": {},
          "execution_count": 113
        }
      ]
    },
    {
      "cell_type": "code",
      "source": [
        "# Feature Importance"
      ],
      "metadata": {
        "id": "cWZpTOxG8esR"
      },
      "execution_count": 114,
      "outputs": []
    },
    {
      "cell_type": "code",
      "source": [
        "feature_importance = pd.Series(rf.feature_importances_)"
      ],
      "metadata": {
        "id": "U7i_sFTO8QPS"
      },
      "execution_count": 115,
      "outputs": []
    },
    {
      "cell_type": "code",
      "source": [
        "feature_importance.head(10)"
      ],
      "metadata": {
        "id": "m2dnklZH8QR8",
        "colab": {
          "base_uri": "https://localhost:8080/"
        },
        "outputId": "6a5edc7f-33b6-42b9-fd0a-6d7b561b66fc"
      },
      "execution_count": 116,
      "outputs": [
        {
          "output_type": "execute_result",
          "data": {
            "text/plain": [
              "0    0.000000\n",
              "1    0.002562\n",
              "2    0.019588\n",
              "3    0.010258\n",
              "4    0.010032\n",
              "5    0.020262\n",
              "6    0.007976\n",
              "7    0.000512\n",
              "8    0.000013\n",
              "9    0.010741\n",
              "dtype: float64"
            ]
          },
          "metadata": {},
          "execution_count": 116
        }
      ]
    },
    {
      "cell_type": "code",
      "source": [
        "feature_importance = feature_importance.sort_values(ascending=False)"
      ],
      "metadata": {
        "id": "0KCJA3oS8QUg"
      },
      "execution_count": 117,
      "outputs": []
    },
    {
      "cell_type": "code",
      "source": [
        "feature_importance.head(10)"
      ],
      "metadata": {
        "id": "bKq7VSyE834g",
        "colab": {
          "base_uri": "https://localhost:8080/"
        },
        "outputId": "8ce2f190-2710-446b-928a-2df29b7caa91"
      },
      "execution_count": 118,
      "outputs": [
        {
          "output_type": "execute_result",
          "data": {
            "text/plain": [
              "21    0.047233\n",
              "43    0.045176\n",
              "26    0.041863\n",
              "36    0.039748\n",
              "28    0.036933\n",
              "42    0.034222\n",
              "13    0.032985\n",
              "33    0.032048\n",
              "20    0.031442\n",
              "61    0.030108\n",
              "dtype: float64"
            ]
          },
          "metadata": {},
          "execution_count": 118
        }
      ]
    },
    {
      "cell_type": "code",
      "source": [
        "feature_importance.head(10).plot(kind='barh');"
      ],
      "metadata": {
        "id": "GIOVf004837E",
        "colab": {
          "base_uri": "https://localhost:8080/",
          "height": 265
        },
        "outputId": "fa85fb8e-28c8-442f-cf15-5bb8b614e148"
      },
      "execution_count": 119,
      "outputs": [
        {
          "output_type": "display_data",
          "data": {
            "text/plain": [
              "<Figure size 432x288 with 1 Axes>"
            ],
            "image/png": "[encoded data removed]"
          },
          "metadata": {
            "needs_background": "light"
          }
        }
      ]
    },
    {
      "cell_type": "code",
      "source": [
        "image = rf.feature_importances_.reshape(8, 8)\n",
        "\n",
        "plt.imshow(image, cmap=plt.cm.hot, interpolation = \"nearest\")\n",
        "cbar = plt.colorbar(ticks=[rf.feature_importances_.min(), rf.feature_importances_.max()])\n",
        "cbar.ax.set_yticklabels([\"Not Important\", \"Very Important\"])\n",
        "plt.axis(\"off\");"
      ],
      "metadata": {
        "id": "q0MeGmV9839x",
        "colab": {
          "base_uri": "https://localhost:8080/",
          "height": 258
        },
        "outputId": "9f29f35c-26fa-49b0-9144-ac6a267fb4b9"
      },
      "execution_count": 120,
      "outputs": [
        {
          "output_type": "display_data",
          "data": {
            "text/plain": [
              "<Figure size 432x288 with 2 Axes>"
            ],
            "image/png": "[encoded data removed]"
          },
          "metadata": {
            "needs_background": "light"
          }
        }
      ]
    },
    {
      "cell_type": "code",
      "source": [
        "train_pred = rf.predict(X_train)\n",
        "test_pred = rf.predict(X_test)"
      ],
      "metadata": {
        "id": "5h3eZr569t1h"
      },
      "execution_count": 121,
      "outputs": []
    },
    {
      "cell_type": "code",
      "source": [
        "plt.imshow(X_train[4].reshape(8, 8), cmap=\"gray\");"
      ],
      "metadata": {
        "id": "0krGGgy390eb",
        "colab": {
          "base_uri": "https://localhost:8080/",
          "height": 265
        },
        "outputId": "00aa0a35-74ab-45b0-db38-d9cf8fa9d257"
      },
      "execution_count": 122,
      "outputs": [
        {
          "output_type": "display_data",
          "data": {
            "text/plain": [
              "<Figure size 432x288 with 1 Axes>"
            ],
            "image/png": "[encoded data removed]"
          },
          "metadata": {
            "needs_background": "light"
          }
        }
      ]
    },
    {
      "cell_type": "code",
      "source": [
        "train_pred[4]"
      ],
      "metadata": {
        "id": "06-DgEtT90hB",
        "colab": {
          "base_uri": "https://localhost:8080/"
        },
        "outputId": "53a5b6b9-ce09-40a6-c2bf-2123ba50de3b"
      },
      "execution_count": 123,
      "outputs": [
        {
          "output_type": "execute_result",
          "data": {
            "text/plain": [
              "4"
            ]
          },
          "metadata": {},
          "execution_count": 123
        }
      ]
    },
    {
      "cell_type": "code",
      "source": [
        "from sklearn.metrics import accuracy_score\n",
        "\n",
        "train_acc = accuracy_score(y_train, train_pred)\n",
        "test_acc = accuracy_score(y_test, test_pred)"
      ],
      "metadata": {
        "id": "xinOZYEp90jR"
      },
      "execution_count": 124,
      "outputs": []
    },
    {
      "cell_type": "code",
      "source": [
        "print(f\"train acc is {train_acc:.4f}\")\n",
        "print(f\"test acc is {test_acc:.4f}\")"
      ],
      "metadata": {
        "id": "NocDKwy390lk",
        "colab": {
          "base_uri": "https://localhost:8080/"
        },
        "outputId": "7e265c1c-44b3-4295-c946-97a24c60b108"
      },
      "execution_count": 125,
      "outputs": [
        {
          "output_type": "stream",
          "name": "stdout",
          "text": [
            "train acc is 1.0000\n",
            "test acc is 0.9574\n"
          ]
        }
      ]
    },
    {
      "cell_type": "code",
      "source": [
        "from sklearn.model_selection import GridSearchCV"
      ],
      "metadata": {
        "id": "GpeiPUut-bxD"
      },
      "execution_count": 126,
      "outputs": []
    },
    {
      "cell_type": "code",
      "source": [
        "params = {\n",
        "    \"n_estimators\" : [i for i in range(100, 1000, 200)],\n",
        "    \"max_depth\" : [i for i in range(10, 50 ,10)]\n",
        "}"
      ],
      "metadata": {
        "id": "JiN-Rydj-b0B"
      },
      "execution_count": 127,
      "outputs": []
    },
    {
      "cell_type": "code",
      "source": [
        "grid = GridSearchCV(estimator=rf, param_grid=params, cv=5)\n",
        "grid = grid.fit(X_train, y_train)"
      ],
      "metadata": {
        "id": "yhkP6C_a-b2s"
      },
      "execution_count": 128,
      "outputs": []
    },
    {
      "cell_type": "code",
      "source": [
        "grid.best_score_"
      ],
      "metadata": {
        "id": "eIp9_Mae-b45",
        "colab": {
          "base_uri": "https://localhost:8080/"
        },
        "outputId": "bc9d02c8-f641-49a4-9f1e-fbcdd17dc0c1"
      },
      "execution_count": 129,
      "outputs": [
        {
          "output_type": "execute_result",
          "data": {
            "text/plain": [
              "0.9809112755327896"
            ]
          },
          "metadata": {},
          "execution_count": 129
        }
      ]
    },
    {
      "cell_type": "code",
      "source": [
        "grid.best_params_"
      ],
      "metadata": {
        "id": "x-LUWzqA_wv2",
        "colab": {
          "base_uri": "https://localhost:8080/"
        },
        "outputId": "a3b5728c-ea81-423a-94ca-26b421e88e3b"
      },
      "execution_count": 130,
      "outputs": [
        {
          "output_type": "execute_result",
          "data": {
            "text/plain": [
              "{'max_depth': 30, 'n_estimators': 900}"
            ]
          },
          "metadata": {},
          "execution_count": 130
        }
      ]
    },
    {
      "cell_type": "code",
      "source": [
        "best_rf = grid.best_estimator_"
      ],
      "metadata": {
        "id": "C6ap8T6k_6XK"
      },
      "execution_count": 131,
      "outputs": []
    },
    {
      "cell_type": "code",
      "source": [
        "best_rf"
      ],
      "metadata": {
        "id": "d25k-J4xAA-X",
        "colab": {
          "base_uri": "https://localhost:8080/"
        },
        "outputId": "ed4fb3b6-93e4-49e3-98ce-eb7741231b37"
      },
      "execution_count": 132,
      "outputs": [
        {
          "output_type": "execute_result",
          "data": {
            "text/plain": [
              "RandomForestClassifier(max_depth=30, n_estimators=900)"
            ]
          },
          "metadata": {},
          "execution_count": 132
        }
      ]
    },
    {
      "cell_type": "code",
      "source": [
        "train_pred_1 = best_rf.predict(X_train)\n",
        "test_pred_1 = best_rf.predict(X_test)"
      ],
      "metadata": {
        "id": "Yu7rRS13ABBY"
      },
      "execution_count": 133,
      "outputs": []
    },
    {
      "cell_type": "code",
      "source": [
        "train_acc_1 = accuracy_score(y_train, train_pred_1)\n",
        "test_acc_1 = accuracy_score(y_test, test_pred_1)"
      ],
      "metadata": {
        "id": "fNEz8xaOABD_"
      },
      "execution_count": 134,
      "outputs": []
    },
    {
      "cell_type": "code",
      "source": [
        "print(f\"train acc is {train_acc_1:.4f}\")\n",
        "print(f\"test acc is {test_acc_1:.4f}\")"
      ],
      "metadata": {
        "id": "M5o9Sj9DAYR5",
        "colab": {
          "base_uri": "https://localhost:8080/"
        },
        "outputId": "a2ad5a4b-1cfa-4ce3-e205-053de3ad3c99"
      },
      "execution_count": 135,
      "outputs": [
        {
          "output_type": "stream",
          "name": "stdout",
          "text": [
            "train acc is 1.0000\n",
            "test acc is 0.9611\n"
          ]
        }
      ]
    },
    {
      "cell_type": "code",
      "source": [
        "feature_importance_rf = pd.Series(best_rf.feature_importances_)"
      ],
      "metadata": {
        "id": "XxlZo9ENAuZF"
      },
      "execution_count": 136,
      "outputs": []
    },
    {
      "cell_type": "code",
      "source": [
        "feature_importance_rf = feature_importance_rf.sort_values(ascending=False)"
      ],
      "metadata": {
        "id": "T_pgjCtPAucD"
      },
      "execution_count": 137,
      "outputs": []
    },
    {
      "cell_type": "code",
      "source": [
        "feature_importance_rf.head(10)"
      ],
      "metadata": {
        "id": "7ohozUeVAuer",
        "colab": {
          "base_uri": "https://localhost:8080/"
        },
        "outputId": "8500590c-f833-43fe-82bc-added0d70349"
      },
      "execution_count": 138,
      "outputs": [
        {
          "output_type": "execute_result",
          "data": {
            "text/plain": [
              "21    0.050123\n",
              "43    0.043354\n",
              "36    0.041486\n",
              "26    0.040532\n",
              "42    0.034269\n",
              "33    0.033776\n",
              "28    0.033762\n",
              "20    0.031434\n",
              "61    0.029703\n",
              "13    0.029372\n",
              "dtype: float64"
            ]
          },
          "metadata": {},
          "execution_count": 138
        }
      ]
    },
    {
      "cell_type": "code",
      "source": [
        "fig, axes = plt.subplots(nrows=1, ncols=2, figsize=(15, 5))\n",
        "feature_importance.head(10).plot(kind='barh', ax = axes[0], title=\"rf\")\n",
        "feature_importance_rf.head(10).plot(kind='barh', ax = axes[1], title=\"best_rf\");"
      ],
      "metadata": {
        "id": "_2_Q-3R6A_Yj",
        "colab": {
          "base_uri": "https://localhost:8080/",
          "height": 336
        },
        "outputId": "3cc686fe-7625-45eb-ffdc-2241e18ccf55"
      },
      "execution_count": 141,
      "outputs": [
        {
          "output_type": "display_data",
          "data": {
            "text/plain": [
              "<Figure size 1080x360 with 2 Axes>"
            ],
            "image/png": "[encoded data removed]"
          },
          "metadata": {
            "needs_background": "light"
          }
        }
      ]
    }
  ]
}