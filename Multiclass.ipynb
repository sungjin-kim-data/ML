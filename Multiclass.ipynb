{
  "nbformat": 4,
  "nbformat_minor": 0,
  "metadata": {
    "colab": {
      "private_outputs": true,
      "provenance": [],
      "authorship_tag": "ABX9TyPVFw+cB6ZjiZKfb2hJlVTu",
      "include_colab_link": true
    },
    "kernelspec": {
      "name": "python3",
      "display_name": "Python 3"
    },
    "language_info": {
      "name": "python"
    }
  },
  "cells": [
    {
      "cell_type": "markdown",
      "metadata": {
        "id": "view-in-github",
        "colab_type": "text"
      },
      "source": [
        "<a href=\"https://colab.research.google.com/github/sungjin-kim-data/ML/blob/master/Multiclass.ipynb\" target=\"_parent\"><img src=\"https://colab.research.google.com/assets/colab-badge.svg\" alt=\"Open In Colab\"/></a>"
      ]
    },
    {
      "cell_type": "code",
      "execution_count": null,
      "metadata": {
        "id": "scSJOltTwO1y"
      },
      "outputs": [],
      "source": [
        "import pandas as pd\n",
        "import numpy as np\n",
        "import matplotlib.pyplot as plt\n",
        "\n",
        "np.random.seed(42)"
      ]
    },
    {
      "cell_type": "code",
      "source": [
        "from sklearn.datasets import load_iris\n",
        "\n",
        "iris = load_iris()"
      ],
      "metadata": {
        "id": "nzbsRJx8wbRP"
      },
      "execution_count": null,
      "outputs": []
    },
    {
      "cell_type": "code",
      "source": [
        "iris"
      ],
      "metadata": {
        "id": "H7DIEaY-wp0E"
      },
      "execution_count": null,
      "outputs": []
    },
    {
      "cell_type": "code",
      "source": [
        "iris[\"feature_names\"]"
      ],
      "metadata": {
        "id": "VfDSJiTuwbUS"
      },
      "execution_count": null,
      "outputs": []
    },
    {
      "cell_type": "code",
      "source": [
        "iris[\"target_names\"]"
      ],
      "metadata": {
        "id": "zyfuY-8iwbW7"
      },
      "execution_count": null,
      "outputs": []
    },
    {
      "cell_type": "code",
      "source": [
        "data, target = iris[\"data\"], iris[\"target\"]"
      ],
      "metadata": {
        "id": "teVIZMCewbZg"
      },
      "execution_count": null,
      "outputs": []
    },
    {
      "cell_type": "code",
      "source": [
        "pd.DataFrame(data, columns=iris[\"feature_names\"]).describe()"
      ],
      "metadata": {
        "id": "E_o5SU0hwxSo"
      },
      "execution_count": null,
      "outputs": []
    },
    {
      "cell_type": "code",
      "source": [
        "pd.Series(target).value_counts()"
      ],
      "metadata": {
        "id": "RMvat2j9wxVP"
      },
      "execution_count": null,
      "outputs": []
    },
    {
      "cell_type": "code",
      "source": [
        "from sklearn.model_selection import train_test_split\n",
        "from sklearn.linear_model import LogisticRegression"
      ],
      "metadata": {
        "id": "wKQdSJjhwxYM"
      },
      "execution_count": null,
      "outputs": []
    },
    {
      "cell_type": "code",
      "source": [
        "X_train,X_test, y_train, y_test = train_test_split(\n",
        "    data, target, train_size=0.7, random_state=2, stratify=target\n",
        ")"
      ],
      "metadata": {
        "id": "M9iVKDKrwxa2"
      },
      "execution_count": null,
      "outputs": []
    },
    {
      "cell_type": "code",
      "source": [
        "print(\"train data :\", len(X_train))\n",
        "print(\"test data :\", len(X_test))"
      ],
      "metadata": {
        "id": "Ys_Va2DcxWpQ"
      },
      "execution_count": null,
      "outputs": []
    },
    {
      "cell_type": "code",
      "source": [
        "pd.Series(y_train).value_counts()"
      ],
      "metadata": {
        "id": "5mnblJvrxmW4"
      },
      "execution_count": null,
      "outputs": []
    },
    {
      "cell_type": "code",
      "source": [
        "pd.Series(y_test).value_counts()"
      ],
      "metadata": {
        "id": "01pD60sjxsXi"
      },
      "execution_count": null,
      "outputs": []
    },
    {
      "cell_type": "code",
      "source": [
        "X = X_train[:, :2]"
      ],
      "metadata": {
        "id": "64KrddY4xvVg"
      },
      "execution_count": null,
      "outputs": []
    },
    {
      "cell_type": "code",
      "source": [
        "X[0]"
      ],
      "metadata": {
        "id": "4Zp8UDLlxvZF"
      },
      "execution_count": null,
      "outputs": []
    },
    {
      "cell_type": "code",
      "source": [
        "plt.figure(figsize=(10, 10))\n",
        "plt.scatter(X[:, 0], X[:, 1], c=y_train, ec='k', cmap=plt.cm.Paired)\n",
        "plt.xlabel(\"Sepal length\")\n",
        "plt.ylabel(\"Sepal width\");"
      ],
      "metadata": {
        "id": "OQBnpry8xvcH"
      },
      "execution_count": null,
      "outputs": []
    },
    {
      "cell_type": "code",
      "source": [
        "ovr_logit = LogisticRegression(multi_class=\"ovr\")\n",
        "ovr_logit.fit(X, y_train)"
      ],
      "metadata": {
        "id": "yzGOp5ZPyh87"
      },
      "execution_count": null,
      "outputs": []
    },
    {
      "cell_type": "code",
      "source": [
        "x_min, x_max = X[:, 0].min() - 0.5, X[:, 0].max() + 0.5\n",
        "y_min, y_max = X[:, 1].min() - 0.5, X[:, 1].max() + 0.5\n",
        "\n",
        "plt.figure(figsize=(10, 10))\n",
        "plt.scatter(X[: ,0], X[:, 1], c=ovr_logit.predict(X), ec='k', cmap=plt.cm.Paired)\n",
        "plt.xlabel(\"Sepla length\")\n",
        "plt.ylabel(\"Sepla width\")\n",
        "plt.xlim(x_min, x_max)\n",
        "plt.ylim(y_min, y_max)\n",
        "\n",
        "coef = ovr_logit.coef_\n",
        "intercept = ovr_logit.intercept_\n",
        "\n",
        "def plot_hyperplane(c, color):\n",
        "  def line(x0):\n",
        "    return (-(x0 * coef[c, 0]) - intercept[c]) / coef[c, 1]\n",
        "  plt.plot([x_min, x_max], [line(x_min), line(x_max)],\n",
        "           ls=\"--\", color=color)\n",
        "\n",
        "for i, color in zip(ovr_logit.classes_, \"bry\"):\n",
        "  plot_hyperplane(i, color)"
      ],
      "metadata": {
        "id": "wf1nNn3EywAL"
      },
      "execution_count": null,
      "outputs": []
    },
    {
      "cell_type": "code",
      "source": [
        "multi_logit = LogisticRegression(multi_class=\"multinomial\")\n",
        "multi_logit.fit(X, y_train)"
      ],
      "metadata": {
        "id": "mNKo_cHi0RHx"
      },
      "execution_count": null,
      "outputs": []
    },
    {
      "cell_type": "code",
      "source": [
        "x_min, x_max = X[:, 0].min() - 0.5, X[:, 0].max() + 0.5\n",
        "y_min, y_max = X[:, 1].min() - 0.5, X[:, 1].max() + 0.5\n",
        "\n",
        "plt.figure(figsize=(10, 10))\n",
        "plt.scatter(X[: ,0], X[:, 1], c=multi_logit.predict(X), ec='k', cmap=plt.cm.Paired)\n",
        "plt.xlabel(\"Sepla length\")\n",
        "plt.ylabel(\"Sepla width\")\n",
        "plt.xlim(x_min, x_max)\n",
        "plt.ylim(y_min, y_max)\n",
        "\n",
        "coef = multi_logit.coef_\n",
        "intercept = multi_logit.intercept_\n",
        "\n",
        "def plot_hyperplane(c, color):\n",
        "  def line(x0):\n",
        "    return (-(x0 * coef[c, 0]) - intercept[c]) / coef[c, 1]\n",
        "  plt.plot([x_min, x_max], [line(x_min), line(x_max)],\n",
        "           ls=\"--\", color=color)\n",
        "\n",
        "for i, color in zip(multi_logit.classes_, \"bry\"):\n",
        "  plot_hyperplane(i, color)"
      ],
      "metadata": {
        "id": "SCipNkub0bQv"
      },
      "execution_count": null,
      "outputs": []
    },
    {
      "cell_type": "code",
      "source": [
        "multi_logit = LogisticRegression()"
      ],
      "metadata": {
        "id": "NGEElddN0nUF"
      },
      "execution_count": null,
      "outputs": []
    },
    {
      "cell_type": "code",
      "source": [
        "multi_logit.fit(X_train, y_train)"
      ],
      "metadata": {
        "id": "DpkCed1Y0qNy"
      },
      "execution_count": null,
      "outputs": []
    },
    {
      "cell_type": "code",
      "source": [
        "train_pred_proba = multi_logit.predict_proba(X_train)"
      ],
      "metadata": {
        "id": "97xy0emM0tRI"
      },
      "execution_count": null,
      "outputs": []
    },
    {
      "cell_type": "code",
      "source": [
        "sp_pred = train_pred_proba[0]\n",
        "sp_pred"
      ],
      "metadata": {
        "id": "AoEW1CQt0ya6"
      },
      "execution_count": null,
      "outputs": []
    },
    {
      "cell_type": "code",
      "source": [
        "print(f\"class 0에 속하지 않을 확률 : {1 - sp_pred[0]:.4f}\")\n",
        "print(f\"class 1과 2에 속할 확률 : {sp_pred[1:].sum():.4f}\")"
      ],
      "metadata": {
        "id": "5a1kMHAo02tF"
      },
      "execution_count": null,
      "outputs": []
    },
    {
      "cell_type": "code",
      "source": [
        "train_pred = multi_logit.predict(X_train)\n",
        "test_pred = multi_logit.predict(X_test)"
      ],
      "metadata": {
        "id": "wYf7PCc51K1B"
      },
      "execution_count": null,
      "outputs": []
    },
    {
      "cell_type": "code",
      "source": [
        "from sklearn.metrics import accuracy_score"
      ],
      "metadata": {
        "id": "IEM-wrEs1Uvn"
      },
      "execution_count": null,
      "outputs": []
    },
    {
      "cell_type": "code",
      "source": [
        "train_acc = accuracy_score(y_train, train_pred)\n",
        "test_acc = accuracy_score(y_test, test_pred)"
      ],
      "metadata": {
        "id": "zZNf0P5J1Y5k"
      },
      "execution_count": null,
      "outputs": []
    },
    {
      "cell_type": "code",
      "source": [
        "print(f\"Train accuracy is : {train_acc:.2f}\")\n",
        "print(f\"Test accuracy is : {test_acc:.2f}\")"
      ],
      "metadata": {
        "id": "regNFfdQ1h6L"
      },
      "execution_count": null,
      "outputs": []
    },
    {
      "cell_type": "code",
      "source": [
        "ovr_logit = LogisticRegression(multi_class=\"ovr\")"
      ],
      "metadata": {
        "id": "QfFBAHVu1scI"
      },
      "execution_count": null,
      "outputs": []
    },
    {
      "cell_type": "code",
      "source": [
        "ovr_logit.fit(X_train, y_train)"
      ],
      "metadata": {
        "id": "YZt8wg4W1zqo"
      },
      "execution_count": null,
      "outputs": []
    },
    {
      "cell_type": "code",
      "source": [
        "ovr_train_pred = ovr_logit.predict(X_train)\n",
        "ovr_test_pred = ovr_logit.predict(X_test)"
      ],
      "metadata": {
        "id": "_7G5uL_z13hW"
      },
      "execution_count": null,
      "outputs": []
    },
    {
      "cell_type": "code",
      "source": [
        "ovr_train_acc = accuracy_score(y_train, ovr_train_pred)\n",
        "ovr_test_acc = accuracy_score(y_test, ovr_test_pred)"
      ],
      "metadata": {
        "id": "ApJA-e-51_gs"
      },
      "execution_count": null,
      "outputs": []
    },
    {
      "cell_type": "code",
      "source": [
        "print(f\"ovr Train accuracy is : {ovr_train_acc: .2f}\")\n",
        "print(f\"ovr test accuracy is : {ovr_test_acc: .2f}\")"
      ],
      "metadata": {
        "id": "PmZcWD_q2KYR"
      },
      "execution_count": null,
      "outputs": []
    }
  ]
}